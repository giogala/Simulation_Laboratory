{
 "cells": [
  {
   "cell_type": "markdown",
   "metadata": {},
   "source": [
    "----\n",
    "### Aggiornamenti Esercitazioni\n",
    "----\n",
    "- 1.3 da aggiustare andamento dell'errore, non so perchè ma diverge\n",
    "    - risolto; nel calcolo di t2 avevo scritto per sbaglio t2<font color=\"red\">+</font>=(t2*j+pi2)/(j+1) corretta togliendo il '+'\n",
    "- 2.2.2 è in 1 al passo 1 mentre 2.2.1 lo è in 0 eppure i due codici sostanzialmente sono uguali (giusto il 2.2.2)\n",
    "    - risolto traslando la x nel grafico nel notebook, spero vada bene\n",
    "- Nel 3 c'è da rifare la stessa tiritera per il put e poi anche in discreto\n",
    "    - fatto, quelli a passaggi discreti mi venivano più piccoli di due ordini di grandezza e quindi ho tolto <font color=\"red\">/O</font> però non so perchè così venga\n",
    "- potrebbe essere utile a questo punto creare una classe/funzione che implementi in modo agile il calcolo della media a blocchi\n",
    "- capire come funziona bene il generatore di numeri casuali. FARLO VERAMENTE\n",
    "- 4 fatto, non so bene se l'equiibrazione sia giusta però e poi se implementare la correzione direttamente nel codice o farla inserire manualmente in properties.dat\n",
    "    - da mettere a posto l'equilibrazione in modo che vengano fatte delle intere simulazioni in cui la temperatura si avvicini a quella desiderata ed infine prendere la configurazione raggiunta come configurazione iniziale della simulazione vera e propria\n",
    "- 5 fatto, da capire se fare adjust() sempre o se fare prima qualche giro di adjust() senza misure e poi misurare\n",
    "- 6, in teoria fatto per h=0 e h=0.02, fare i grafici per vedere se hanno senso i risultati. Ho fatto il cycle.sh per eseguire ciclicamente il main con divevrse temperature. C'è un conflitto con il metodo initialize di system.cpp per la posizione o il nome di input.dat che ad ora non può essere chiamato in altro modo, cosa che a me non dispiacerebbe. In alternativa posso mettere un input.dat nella cartella GIBBS e uno nella cartella METRO ma ad ora seed.in e PRIMES devono stare nella stessa cartella di input.dat, forse converrebbe usare sempre gli stessi due seed.in e primes collocati in una directory fissata.\n",
    "    - risolto il problema dell'initialize aggiungendo il nome del file di input come ulteriore parametro del metodo initialize()\n",
    "    - aggiunto anche ran_d che è la directory da cui vengono pescati seed.in e PRIMES\n",
    "\n",
    "    - Nota Equilibrazione: viene fatta essenzialmente per arrivare ad una configurazione iniziale che sia compatibile con le condizioni sperimentali desiderate. Quindi forse non è necessario fare un sim_type a parte o un tipo di ciclo a parte: alla fine dell'equilibrazione la configurazione viene salvata tramite il comando write_configuration() (richiamato in finalize()); nella simulazione occorre quindi semplicemente impostare RESTART 1 in input.dat in modo che la configurazione salvata venga assunta come configurazione iniziale\n",
    "    - da mettere a posto il direzionamento dei vari file in cycle.sh; fare in modo che il primo ciclo sia si equilibrazione, quindi impostare restart a 1, riavviare dalla prima temperatura e quindi svolgere veramente il cilco. Si potrebbe salvare tutti i file dei blocchi ad ogni temperatura in una cartella a parte mentre i tot.dat in una cartella specifica poco intasata\n",
    "    - messo a posto il cycle.sh in modo che faccia un giro di equilibrazione e poi parte con il ciclo vero e proprio. La simulazione ad ogni T parte con la configurazione a cui è arrivata la simulazione alla temperatura precedente \n",
    "    - nelle slide dice di fare un'equilibrazione con una configurazione iniziale random (T=$\\infty$) e un'altra con spin tutti allineati (T=0) per assicurarso che lo stato raggiunto sia veramente di equilibrio e non meta-stabile. Per fare la seconda è sufficiente fare un cycle con campo con un solo giro e poi fare quello vero impostando restart a 1 sin dall'inizio"
   ]
  },
  {
   "cell_type": "markdown",
   "metadata": {},
   "source": []
  }
 ],
 "metadata": {
  "kernelspec": {
   "display_name": "Python 3",
   "language": "python",
   "name": "python3"
  },
  "language_info": {
   "codemirror_mode": {
    "name": "ipython",
    "version": 3
   },
   "file_extension": ".py",
   "mimetype": "text/x-python",
   "name": "python",
   "nbconvert_exporter": "python",
   "pygments_lexer": "ipython3",
   "version": "3.11.4"
  }
 },
 "nbformat": 4,
 "nbformat_minor": 2
}
