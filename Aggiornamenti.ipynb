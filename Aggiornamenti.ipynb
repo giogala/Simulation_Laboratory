{
 "cells": [
  {
   "cell_type": "markdown",
   "metadata": {},
   "source": [
    "----\n",
    "### Aggiornamenti Esercitazioni\n",
    "----\n",
    "- 1.3 da aggiustare andamento dell'errore, non so perchè ma diverge\n",
    "    - risolto; nel calcolo di t2 avevo scritto per sbaglio t2<font color=\"red\">+</font>=(t2*j+pi2)/(j+1) corretta togliendo il '+'\n",
    "- 2.2.2 è in 1 al passo 1 mentre 2.2.1 lo è in 0 eppure i due codici sostanzialmente sono uguali (giusto il 2.2.2)\n",
    "    - risolto traslando la x nel grafico nel notebook, spero vada bene\n",
    "- Nel 3 c'è da rifare la stessa tiritera per il put e poi anche in discreto\n",
    "    - fatto, quelli a passaggi discreti mi venivano più piccoli di due ordini di grandezza e quindi ho tolto <font color=\"red\">/O</font> però non so perchè così venga\n",
    "- potrebbe essere utile a questo punto creare una classe/funzione che implementi in modo agile il calcolo della media a blocchi\n",
    "- capire come funziona bene il generatore di numeri casuali\n",
    "- 4 fatto, non so bene se l'equiibrazione sia giusta però e poi se implementare la correzione direttamente nel codice o farla inserire manualmente in properties.dat\n",
    "- 5 fatto, da capire se fare adjust() sempre o se fare prima qualche giro di adjust() senza misure e poi misurare\n",
    "- 6, in teoria fatto per h=0, fare i grafici per vedere se hanno senso i risultati"
   ]
  }
 ],
 "metadata": {
  "kernelspec": {
   "display_name": "Python 3",
   "language": "python",
   "name": "python3"
  },
  "language_info": {
   "codemirror_mode": {
    "name": "ipython",
    "version": 3
   },
   "file_extension": ".py",
   "mimetype": "text/x-python",
   "name": "python",
   "nbconvert_exporter": "python",
   "pygments_lexer": "ipython3",
   "version": "3.11.4"
  }
 },
 "nbformat": 4,
 "nbformat_minor": 2
}
